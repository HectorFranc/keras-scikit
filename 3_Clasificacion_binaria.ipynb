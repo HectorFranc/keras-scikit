{
  "nbformat": 4,
  "nbformat_minor": 0,
  "metadata": {
    "colab": {
      "name": "3.-Clasificacion_binaria.ipynb",
      "provenance": [],
      "collapsed_sections": [],
      "authorship_tag": "ABX9TyPIp+CArHibHcC/SA8toOB5"
    },
    "kernelspec": {
      "name": "python3",
      "display_name": "Python 3"
    }
  },
  "cells": [
    {
      "cell_type": "code",
      "metadata": {
        "id": "sg6jlhw6s4s2",
        "colab_type": "code",
        "colab": {}
      },
      "source": [
        "import pandas as pd\n",
        "import numpy as np"
      ],
      "execution_count": 0,
      "outputs": []
    },
    {
      "cell_type": "markdown",
      "metadata": {
        "id": "S5dcVzDQxhCY",
        "colab_type": "text"
      },
      "source": [
        "## Cargar datos\n",
        "---"
      ]
    },
    {
      "cell_type": "code",
      "metadata": {
        "id": "e5skvYsKtPP-",
        "colab_type": "code",
        "colab": {
          "base_uri": "https://localhost:8080/",
          "height": 343
        },
        "outputId": "5b6e2336-2047-4ab4-b7df-c0a2652d303d"
      },
      "source": [
        "people = pd.read_csv('./people.csv')\n",
        "people.head()"
      ],
      "execution_count": 2,
      "outputs": [
        {
          "output_type": "stream",
          "text": [
            "/usr/local/lib/python3.6/dist-packages/IPython/core/interactiveshell.py:2718: DtypeWarning: Columns (39) have mixed types.Specify dtype option on import or set low_memory=False.\n",
            "  interactivity=interactivity, compiler=compiler, result=result)\n"
          ],
          "name": "stderr"
        },
        {
          "output_type": "execute_result",
          "data": {
            "text/html": [
              "<div>\n",
              "<style scoped>\n",
              "    .dataframe tbody tr th:only-of-type {\n",
              "        vertical-align: middle;\n",
              "    }\n",
              "\n",
              "    .dataframe tbody tr th {\n",
              "        vertical-align: top;\n",
              "    }\n",
              "\n",
              "    .dataframe thead th {\n",
              "        text-align: right;\n",
              "    }\n",
              "</style>\n",
              "<table border=\"1\" class=\"dataframe\">\n",
              "  <thead>\n",
              "    <tr style=\"text-align: right;\">\n",
              "      <th></th>\n",
              "      <th>people_id</th>\n",
              "      <th>char_1</th>\n",
              "      <th>group_1</th>\n",
              "      <th>char_2</th>\n",
              "      <th>date</th>\n",
              "      <th>char_3</th>\n",
              "      <th>char_4</th>\n",
              "      <th>char_5</th>\n",
              "      <th>char_6</th>\n",
              "      <th>char_7</th>\n",
              "      <th>char_8</th>\n",
              "      <th>char_9</th>\n",
              "      <th>char_10</th>\n",
              "      <th>char_11</th>\n",
              "      <th>char_12</th>\n",
              "      <th>char_13</th>\n",
              "      <th>char_14</th>\n",
              "      <th>char_15</th>\n",
              "      <th>char_16</th>\n",
              "      <th>char_17</th>\n",
              "      <th>char_18</th>\n",
              "      <th>char_19</th>\n",
              "      <th>char_20</th>\n",
              "      <th>char_21</th>\n",
              "      <th>char_22</th>\n",
              "      <th>char_23</th>\n",
              "      <th>char_24</th>\n",
              "      <th>char_25</th>\n",
              "      <th>char_26</th>\n",
              "      <th>char_27</th>\n",
              "      <th>char_28</th>\n",
              "      <th>char_29</th>\n",
              "      <th>char_30</th>\n",
              "      <th>char_31</th>\n",
              "      <th>char_32</th>\n",
              "      <th>char_33</th>\n",
              "      <th>char_34</th>\n",
              "      <th>char_35</th>\n",
              "      <th>char_36</th>\n",
              "      <th>char_37</th>\n",
              "      <th>char_38</th>\n",
              "    </tr>\n",
              "  </thead>\n",
              "  <tbody>\n",
              "    <tr>\n",
              "      <th>0</th>\n",
              "      <td>ppl_100</td>\n",
              "      <td>type 2</td>\n",
              "      <td>group 17304</td>\n",
              "      <td>type 2</td>\n",
              "      <td>2021-06-29</td>\n",
              "      <td>type 5</td>\n",
              "      <td>type 5</td>\n",
              "      <td>type 5</td>\n",
              "      <td>type 3</td>\n",
              "      <td>type 11</td>\n",
              "      <td>type 2</td>\n",
              "      <td>type 2</td>\n",
              "      <td>True</td>\n",
              "      <td>False</td>\n",
              "      <td>False</td>\n",
              "      <td>True</td>\n",
              "      <td>True</td>\n",
              "      <td>False</td>\n",
              "      <td>True</td>\n",
              "      <td>False</td>\n",
              "      <td>False</td>\n",
              "      <td>False</td>\n",
              "      <td>False</td>\n",
              "      <td>True</td>\n",
              "      <td>False</td>\n",
              "      <td>False</td>\n",
              "      <td>False</td>\n",
              "      <td>False</td>\n",
              "      <td>False</td>\n",
              "      <td>True</td>\n",
              "      <td>True</td>\n",
              "      <td>False</td>\n",
              "      <td>True</td>\n",
              "      <td>True</td>\n",
              "      <td>False</td>\n",
              "      <td>False</td>\n",
              "      <td>True</td>\n",
              "      <td>True</td>\n",
              "      <td>True</td>\n",
              "      <td>False</td>\n",
              "      <td>36.0</td>\n",
              "    </tr>\n",
              "    <tr>\n",
              "      <th>1</th>\n",
              "      <td>ppl_100002</td>\n",
              "      <td>type 2</td>\n",
              "      <td>group 8688</td>\n",
              "      <td>type 3</td>\n",
              "      <td>2021-01-06</td>\n",
              "      <td>type 28</td>\n",
              "      <td>type 9</td>\n",
              "      <td>type 5</td>\n",
              "      <td>type 3</td>\n",
              "      <td>type 11</td>\n",
              "      <td>type 2</td>\n",
              "      <td>type 4</td>\n",
              "      <td>False</td>\n",
              "      <td>False</td>\n",
              "      <td>True</td>\n",
              "      <td>True</td>\n",
              "      <td>False</td>\n",
              "      <td>False</td>\n",
              "      <td>False</td>\n",
              "      <td>True</td>\n",
              "      <td>False</td>\n",
              "      <td>False</td>\n",
              "      <td>False</td>\n",
              "      <td>False</td>\n",
              "      <td>False</td>\n",
              "      <td>True</td>\n",
              "      <td>False</td>\n",
              "      <td>True</td>\n",
              "      <td>True</td>\n",
              "      <td>True</td>\n",
              "      <td>False</td>\n",
              "      <td>False</td>\n",
              "      <td>True</td>\n",
              "      <td>True</td>\n",
              "      <td>True</td>\n",
              "      <td>True</td>\n",
              "      <td>True</td>\n",
              "      <td>True</td>\n",
              "      <td>True</td>\n",
              "      <td>False</td>\n",
              "      <td>76.0</td>\n",
              "    </tr>\n",
              "    <tr>\n",
              "      <th>2</th>\n",
              "      <td>ppl_100003</td>\n",
              "      <td>type 2</td>\n",
              "      <td>group 33592</td>\n",
              "      <td>type 3</td>\n",
              "      <td>2022-06-10</td>\n",
              "      <td>type 4</td>\n",
              "      <td>type 8</td>\n",
              "      <td>type 5</td>\n",
              "      <td>type 2</td>\n",
              "      <td>type 5</td>\n",
              "      <td>type 2</td>\n",
              "      <td>type 2</td>\n",
              "      <td>True</td>\n",
              "      <td>True</td>\n",
              "      <td>True</td>\n",
              "      <td>True</td>\n",
              "      <td>True</td>\n",
              "      <td>True</td>\n",
              "      <td>False</td>\n",
              "      <td>True</td>\n",
              "      <td>False</td>\n",
              "      <td>True</td>\n",
              "      <td>False</td>\n",
              "      <td>True</td>\n",
              "      <td>True</td>\n",
              "      <td>True</td>\n",
              "      <td>True</td>\n",
              "      <td>True</td>\n",
              "      <td>True</td>\n",
              "      <td>True</td>\n",
              "      <td>True</td>\n",
              "      <td>False</td>\n",
              "      <td>False</td>\n",
              "      <td>True</td>\n",
              "      <td>True</td>\n",
              "      <td>True</td>\n",
              "      <td>True</td>\n",
              "      <td>False</td>\n",
              "      <td>True</td>\n",
              "      <td>True</td>\n",
              "      <td>99.0</td>\n",
              "    </tr>\n",
              "    <tr>\n",
              "      <th>3</th>\n",
              "      <td>ppl_100004</td>\n",
              "      <td>type 2</td>\n",
              "      <td>group 22593</td>\n",
              "      <td>type 3</td>\n",
              "      <td>2022-07-20</td>\n",
              "      <td>type 40</td>\n",
              "      <td>type 25</td>\n",
              "      <td>type 9</td>\n",
              "      <td>type 4</td>\n",
              "      <td>type 16</td>\n",
              "      <td>type 2</td>\n",
              "      <td>type 2</td>\n",
              "      <td>True</td>\n",
              "      <td>True</td>\n",
              "      <td>True</td>\n",
              "      <td>True</td>\n",
              "      <td>True</td>\n",
              "      <td>False</td>\n",
              "      <td>True</td>\n",
              "      <td>True</td>\n",
              "      <td>True</td>\n",
              "      <td>True</td>\n",
              "      <td>True</td>\n",
              "      <td>True</td>\n",
              "      <td>True</td>\n",
              "      <td>True</td>\n",
              "      <td>False</td>\n",
              "      <td>True</td>\n",
              "      <td>True</td>\n",
              "      <td>True</td>\n",
              "      <td>True</td>\n",
              "      <td>True</td>\n",
              "      <td>True</td>\n",
              "      <td>True</td>\n",
              "      <td>True</td>\n",
              "      <td>True</td>\n",
              "      <td>True</td>\n",
              "      <td>True</td>\n",
              "      <td>True</td>\n",
              "      <td>True</td>\n",
              "      <td>76.0</td>\n",
              "    </tr>\n",
              "    <tr>\n",
              "      <th>4</th>\n",
              "      <td>ppl_100006</td>\n",
              "      <td>type 2</td>\n",
              "      <td>group 6534</td>\n",
              "      <td>type 3</td>\n",
              "      <td>2022-07-27</td>\n",
              "      <td>type 40</td>\n",
              "      <td>type 25</td>\n",
              "      <td>type 9</td>\n",
              "      <td>type 3</td>\n",
              "      <td>type 8</td>\n",
              "      <td>type 2</td>\n",
              "      <td>type 2</td>\n",
              "      <td>False</td>\n",
              "      <td>False</td>\n",
              "      <td>False</td>\n",
              "      <td>False</td>\n",
              "      <td>False</td>\n",
              "      <td>False</td>\n",
              "      <td>False</td>\n",
              "      <td>False</td>\n",
              "      <td>False</td>\n",
              "      <td>False</td>\n",
              "      <td>False</td>\n",
              "      <td>False</td>\n",
              "      <td>False</td>\n",
              "      <td>False</td>\n",
              "      <td>False</td>\n",
              "      <td>False</td>\n",
              "      <td>False</td>\n",
              "      <td>False</td>\n",
              "      <td>False</td>\n",
              "      <td>False</td>\n",
              "      <td>False</td>\n",
              "      <td>True</td>\n",
              "      <td>False</td>\n",
              "      <td>False</td>\n",
              "      <td>False</td>\n",
              "      <td>True</td>\n",
              "      <td>True</td>\n",
              "      <td>False</td>\n",
              "      <td>84.0</td>\n",
              "    </tr>\n",
              "  </tbody>\n",
              "</table>\n",
              "</div>"
            ],
            "text/plain": [
              "    people_id  char_1      group_1  char_2  ... char_35 char_36 char_37 char_38\n",
              "0     ppl_100  type 2  group 17304  type 2  ...    True    True   False    36.0\n",
              "1  ppl_100002  type 2   group 8688  type 3  ...    True    True   False    76.0\n",
              "2  ppl_100003  type 2  group 33592  type 3  ...   False    True    True    99.0\n",
              "3  ppl_100004  type 2  group 22593  type 3  ...    True    True    True    76.0\n",
              "4  ppl_100006  type 2   group 6534  type 3  ...    True    True   False    84.0\n",
              "\n",
              "[5 rows x 41 columns]"
            ]
          },
          "metadata": {
            "tags": []
          },
          "execution_count": 2
        }
      ]
    },
    {
      "cell_type": "code",
      "metadata": {
        "id": "H5eQZ_K6t3-p",
        "colab_type": "code",
        "colab": {
          "base_uri": "https://localhost:8080/",
          "height": 204
        },
        "outputId": "52837e55-f63e-42c8-b2f3-3f2a1ac615a5"
      },
      "source": [
        "activity = pd.read_csv('./act_train.csv')\n",
        "activity.head()"
      ],
      "execution_count": 3,
      "outputs": [
        {
          "output_type": "execute_result",
          "data": {
            "text/html": [
              "<div>\n",
              "<style scoped>\n",
              "    .dataframe tbody tr th:only-of-type {\n",
              "        vertical-align: middle;\n",
              "    }\n",
              "\n",
              "    .dataframe tbody tr th {\n",
              "        vertical-align: top;\n",
              "    }\n",
              "\n",
              "    .dataframe thead th {\n",
              "        text-align: right;\n",
              "    }\n",
              "</style>\n",
              "<table border=\"1\" class=\"dataframe\">\n",
              "  <thead>\n",
              "    <tr style=\"text-align: right;\">\n",
              "      <th></th>\n",
              "      <th>people_id</th>\n",
              "      <th>activity_id</th>\n",
              "      <th>date</th>\n",
              "      <th>activity_category</th>\n",
              "      <th>char_1</th>\n",
              "      <th>char_2</th>\n",
              "      <th>char_3</th>\n",
              "      <th>char_4</th>\n",
              "      <th>char_5</th>\n",
              "      <th>char_6</th>\n",
              "      <th>char_7</th>\n",
              "      <th>char_8</th>\n",
              "      <th>char_9</th>\n",
              "      <th>char_10</th>\n",
              "      <th>outcome</th>\n",
              "    </tr>\n",
              "  </thead>\n",
              "  <tbody>\n",
              "    <tr>\n",
              "      <th>0</th>\n",
              "      <td>ppl_100</td>\n",
              "      <td>act2_1734928</td>\n",
              "      <td>2023-08-26</td>\n",
              "      <td>type 4</td>\n",
              "      <td>NaN</td>\n",
              "      <td>NaN</td>\n",
              "      <td>NaN</td>\n",
              "      <td>NaN</td>\n",
              "      <td>NaN</td>\n",
              "      <td>NaN</td>\n",
              "      <td>NaN</td>\n",
              "      <td>NaN</td>\n",
              "      <td>NaN</td>\n",
              "      <td>type 76</td>\n",
              "      <td>0.0</td>\n",
              "    </tr>\n",
              "    <tr>\n",
              "      <th>1</th>\n",
              "      <td>ppl_100</td>\n",
              "      <td>act2_2434093</td>\n",
              "      <td>2022-09-27</td>\n",
              "      <td>type 2</td>\n",
              "      <td>NaN</td>\n",
              "      <td>NaN</td>\n",
              "      <td>NaN</td>\n",
              "      <td>NaN</td>\n",
              "      <td>NaN</td>\n",
              "      <td>NaN</td>\n",
              "      <td>NaN</td>\n",
              "      <td>NaN</td>\n",
              "      <td>NaN</td>\n",
              "      <td>type 1</td>\n",
              "      <td>0.0</td>\n",
              "    </tr>\n",
              "    <tr>\n",
              "      <th>2</th>\n",
              "      <td>ppl_100</td>\n",
              "      <td>act2_3404049</td>\n",
              "      <td>2022-09-27</td>\n",
              "      <td>type 2</td>\n",
              "      <td>NaN</td>\n",
              "      <td>NaN</td>\n",
              "      <td>NaN</td>\n",
              "      <td>NaN</td>\n",
              "      <td>NaN</td>\n",
              "      <td>NaN</td>\n",
              "      <td>NaN</td>\n",
              "      <td>NaN</td>\n",
              "      <td>NaN</td>\n",
              "      <td>type 1</td>\n",
              "      <td>0.0</td>\n",
              "    </tr>\n",
              "    <tr>\n",
              "      <th>3</th>\n",
              "      <td>ppl_100</td>\n",
              "      <td>act2_3651215</td>\n",
              "      <td>2023-08-04</td>\n",
              "      <td>type 2</td>\n",
              "      <td>NaN</td>\n",
              "      <td>NaN</td>\n",
              "      <td>NaN</td>\n",
              "      <td>NaN</td>\n",
              "      <td>NaN</td>\n",
              "      <td>NaN</td>\n",
              "      <td>NaN</td>\n",
              "      <td>NaN</td>\n",
              "      <td>NaN</td>\n",
              "      <td>type 1</td>\n",
              "      <td>0.0</td>\n",
              "    </tr>\n",
              "    <tr>\n",
              "      <th>4</th>\n",
              "      <td>ppl_100</td>\n",
              "      <td>act2_4109017</td>\n",
              "      <td>2023-08-26</td>\n",
              "      <td>type 2</td>\n",
              "      <td>NaN</td>\n",
              "      <td>NaN</td>\n",
              "      <td>NaN</td>\n",
              "      <td>NaN</td>\n",
              "      <td>NaN</td>\n",
              "      <td>NaN</td>\n",
              "      <td>NaN</td>\n",
              "      <td>NaN</td>\n",
              "      <td>NaN</td>\n",
              "      <td>type 1</td>\n",
              "      <td>0.0</td>\n",
              "    </tr>\n",
              "  </tbody>\n",
              "</table>\n",
              "</div>"
            ],
            "text/plain": [
              "  people_id   activity_id        date  ... char_9  char_10 outcome\n",
              "0   ppl_100  act2_1734928  2023-08-26  ...    NaN  type 76     0.0\n",
              "1   ppl_100  act2_2434093  2022-09-27  ...    NaN   type 1     0.0\n",
              "2   ppl_100  act2_3404049  2022-09-27  ...    NaN   type 1     0.0\n",
              "3   ppl_100  act2_3651215  2023-08-04  ...    NaN   type 1     0.0\n",
              "4   ppl_100  act2_4109017  2023-08-26  ...    NaN   type 1     0.0\n",
              "\n",
              "[5 rows x 15 columns]"
            ]
          },
          "metadata": {
            "tags": []
          },
          "execution_count": 3
        }
      ]
    },
    {
      "cell_type": "markdown",
      "metadata": {
        "id": "quTHijTbxlUJ",
        "colab_type": "text"
      },
      "source": [
        "## Completitud de datos\n",
        "---"
      ]
    },
    {
      "cell_type": "code",
      "metadata": {
        "id": "VBDYg7Y9uZG0",
        "colab_type": "code",
        "colab": {
          "base_uri": "https://localhost:8080/",
          "height": 748
        },
        "outputId": "7b7d75a5-33fa-4184-cd57-2bb66d44cd83"
      },
      "source": [
        "print(people.shape)\n",
        "print(people.isnull().sum()/people.shape[0])"
      ],
      "execution_count": 4,
      "outputs": [
        {
          "output_type": "stream",
          "text": [
            "(88227, 41)\n",
            "people_id    0.000000\n",
            "char_1       0.000000\n",
            "group_1      0.000000\n",
            "char_2       0.000000\n",
            "date         0.000000\n",
            "char_3       0.000000\n",
            "char_4       0.000000\n",
            "char_5       0.000000\n",
            "char_6       0.000000\n",
            "char_7       0.000000\n",
            "char_8       0.000000\n",
            "char_9       0.000000\n",
            "char_10      0.000000\n",
            "char_11      0.000000\n",
            "char_12      0.000000\n",
            "char_13      0.000000\n",
            "char_14      0.000000\n",
            "char_15      0.000000\n",
            "char_16      0.000000\n",
            "char_17      0.000000\n",
            "char_18      0.000000\n",
            "char_19      0.000000\n",
            "char_20      0.000000\n",
            "char_21      0.000000\n",
            "char_22      0.000000\n",
            "char_23      0.000000\n",
            "char_24      0.000000\n",
            "char_25      0.000000\n",
            "char_26      0.000000\n",
            "char_27      0.000000\n",
            "char_28      0.000000\n",
            "char_29      0.000000\n",
            "char_30      0.000000\n",
            "char_31      0.000000\n",
            "char_32      0.000000\n",
            "char_33      0.000000\n",
            "char_34      0.000000\n",
            "char_35      0.000000\n",
            "char_36      0.000000\n",
            "char_37      0.000000\n",
            "char_38      0.000011\n",
            "dtype: float64\n"
          ],
          "name": "stdout"
        }
      ]
    },
    {
      "cell_type": "code",
      "metadata": {
        "id": "2c62O7rwu4tW",
        "colab_type": "code",
        "colab": {
          "base_uri": "https://localhost:8080/",
          "height": 306
        },
        "outputId": "6443fa3a-17f8-43cb-fa33-27c5fe924641"
      },
      "source": [
        "print(activity.shape)\n",
        "print(activity.isnull().sum()/activity.shape[0])"
      ],
      "execution_count": 5,
      "outputs": [
        {
          "output_type": "stream",
          "text": [
            "(360850, 15)\n",
            "people_id            0.000000\n",
            "activity_id          0.000000\n",
            "date                 0.000000\n",
            "activity_category    0.000000\n",
            "char_1               0.929877\n",
            "char_2               0.929877\n",
            "char_3               0.929877\n",
            "char_4               0.929877\n",
            "char_5               0.929877\n",
            "char_6               0.929877\n",
            "char_7               0.929877\n",
            "char_8               0.929877\n",
            "char_9               0.929877\n",
            "char_10              0.070126\n",
            "outcome              0.000003\n",
            "dtype: float64\n"
          ],
          "name": "stdout"
        }
      ]
    },
    {
      "cell_type": "code",
      "metadata": {
        "id": "rf0SBtxmvEaf",
        "colab_type": "code",
        "colab": {
          "base_uri": "https://localhost:8080/",
          "height": 85
        },
        "outputId": "ac0f2338-174a-43ba-aedc-7a90b3e83ce6"
      },
      "source": [
        "activity.columns"
      ],
      "execution_count": 6,
      "outputs": [
        {
          "output_type": "execute_result",
          "data": {
            "text/plain": [
              "Index(['people_id', 'activity_id', 'date', 'activity_category', 'char_1',\n",
              "       'char_2', 'char_3', 'char_4', 'char_5', 'char_6', 'char_7', 'char_8',\n",
              "       'char_9', 'char_10', 'outcome'],\n",
              "      dtype='object')"
            ]
          },
          "metadata": {
            "tags": []
          },
          "execution_count": 6
        }
      ]
    },
    {
      "cell_type": "code",
      "metadata": {
        "id": "nDiKetFWwYVf",
        "colab_type": "code",
        "colab": {
          "base_uri": "https://localhost:8080/",
          "height": 221
        },
        "outputId": "c65c0cf6-0c5f-4570-a237-a829a9ac43d8"
      },
      "source": [
        "activity.drop(['char_1','char_2', 'char_3', 'char_4', 'char_5', 'char_6', 'char_7',\\\n",
        "              'char_8','char_9'], axis='columns', inplace=True)\n",
        "print(activity.shape)\n",
        "activity.head()"
      ],
      "execution_count": 7,
      "outputs": [
        {
          "output_type": "stream",
          "text": [
            "(360850, 6)\n"
          ],
          "name": "stdout"
        },
        {
          "output_type": "execute_result",
          "data": {
            "text/html": [
              "<div>\n",
              "<style scoped>\n",
              "    .dataframe tbody tr th:only-of-type {\n",
              "        vertical-align: middle;\n",
              "    }\n",
              "\n",
              "    .dataframe tbody tr th {\n",
              "        vertical-align: top;\n",
              "    }\n",
              "\n",
              "    .dataframe thead th {\n",
              "        text-align: right;\n",
              "    }\n",
              "</style>\n",
              "<table border=\"1\" class=\"dataframe\">\n",
              "  <thead>\n",
              "    <tr style=\"text-align: right;\">\n",
              "      <th></th>\n",
              "      <th>people_id</th>\n",
              "      <th>activity_id</th>\n",
              "      <th>date</th>\n",
              "      <th>activity_category</th>\n",
              "      <th>char_10</th>\n",
              "      <th>outcome</th>\n",
              "    </tr>\n",
              "  </thead>\n",
              "  <tbody>\n",
              "    <tr>\n",
              "      <th>0</th>\n",
              "      <td>ppl_100</td>\n",
              "      <td>act2_1734928</td>\n",
              "      <td>2023-08-26</td>\n",
              "      <td>type 4</td>\n",
              "      <td>type 76</td>\n",
              "      <td>0.0</td>\n",
              "    </tr>\n",
              "    <tr>\n",
              "      <th>1</th>\n",
              "      <td>ppl_100</td>\n",
              "      <td>act2_2434093</td>\n",
              "      <td>2022-09-27</td>\n",
              "      <td>type 2</td>\n",
              "      <td>type 1</td>\n",
              "      <td>0.0</td>\n",
              "    </tr>\n",
              "    <tr>\n",
              "      <th>2</th>\n",
              "      <td>ppl_100</td>\n",
              "      <td>act2_3404049</td>\n",
              "      <td>2022-09-27</td>\n",
              "      <td>type 2</td>\n",
              "      <td>type 1</td>\n",
              "      <td>0.0</td>\n",
              "    </tr>\n",
              "    <tr>\n",
              "      <th>3</th>\n",
              "      <td>ppl_100</td>\n",
              "      <td>act2_3651215</td>\n",
              "      <td>2023-08-04</td>\n",
              "      <td>type 2</td>\n",
              "      <td>type 1</td>\n",
              "      <td>0.0</td>\n",
              "    </tr>\n",
              "    <tr>\n",
              "      <th>4</th>\n",
              "      <td>ppl_100</td>\n",
              "      <td>act2_4109017</td>\n",
              "      <td>2023-08-26</td>\n",
              "      <td>type 2</td>\n",
              "      <td>type 1</td>\n",
              "      <td>0.0</td>\n",
              "    </tr>\n",
              "  </tbody>\n",
              "</table>\n",
              "</div>"
            ],
            "text/plain": [
              "  people_id   activity_id        date activity_category  char_10  outcome\n",
              "0   ppl_100  act2_1734928  2023-08-26            type 4  type 76      0.0\n",
              "1   ppl_100  act2_2434093  2022-09-27            type 2   type 1      0.0\n",
              "2   ppl_100  act2_3404049  2022-09-27            type 2   type 1      0.0\n",
              "3   ppl_100  act2_3651215  2023-08-04            type 2   type 1      0.0\n",
              "4   ppl_100  act2_4109017  2023-08-26            type 2   type 1      0.0"
            ]
          },
          "metadata": {
            "tags": []
          },
          "execution_count": 7
        }
      ]
    },
    {
      "cell_type": "code",
      "metadata": {
        "id": "A69N5MjHw0GB",
        "colab_type": "code",
        "colab": {
          "base_uri": "https://localhost:8080/",
          "height": 80
        },
        "outputId": "c288012a-378e-42c0-b3a1-a7d08f6dc96c"
      },
      "source": [
        "activity = activity.rename(columns={'date':'fecha_actividad', 'char_10':'tipo_actividad'})\n",
        "activity.head(1)"
      ],
      "execution_count": 8,
      "outputs": [
        {
          "output_type": "execute_result",
          "data": {
            "text/html": [
              "<div>\n",
              "<style scoped>\n",
              "    .dataframe tbody tr th:only-of-type {\n",
              "        vertical-align: middle;\n",
              "    }\n",
              "\n",
              "    .dataframe tbody tr th {\n",
              "        vertical-align: top;\n",
              "    }\n",
              "\n",
              "    .dataframe thead th {\n",
              "        text-align: right;\n",
              "    }\n",
              "</style>\n",
              "<table border=\"1\" class=\"dataframe\">\n",
              "  <thead>\n",
              "    <tr style=\"text-align: right;\">\n",
              "      <th></th>\n",
              "      <th>people_id</th>\n",
              "      <th>activity_id</th>\n",
              "      <th>fecha_actividad</th>\n",
              "      <th>activity_category</th>\n",
              "      <th>tipo_actividad</th>\n",
              "      <th>outcome</th>\n",
              "    </tr>\n",
              "  </thead>\n",
              "  <tbody>\n",
              "    <tr>\n",
              "      <th>0</th>\n",
              "      <td>ppl_100</td>\n",
              "      <td>act2_1734928</td>\n",
              "      <td>2023-08-26</td>\n",
              "      <td>type 4</td>\n",
              "      <td>type 76</td>\n",
              "      <td>0.0</td>\n",
              "    </tr>\n",
              "  </tbody>\n",
              "</table>\n",
              "</div>"
            ],
            "text/plain": [
              "  people_id   activity_id  ... tipo_actividad outcome\n",
              "0   ppl_100  act2_1734928  ...        type 76     0.0\n",
              "\n",
              "[1 rows x 6 columns]"
            ]
          },
          "metadata": {
            "tags": []
          },
          "execution_count": 8
        }
      ]
    },
    {
      "cell_type": "code",
      "metadata": {
        "id": "Lww1yJkVy0Xq",
        "colab_type": "code",
        "colab": {}
      },
      "source": [
        "activity['tipo_actividad'] = activity['tipo_actividad'].fillna(activity['tipo_actividad'].mode()[0])"
      ],
      "execution_count": 0,
      "outputs": []
    },
    {
      "cell_type": "code",
      "metadata": {
        "id": "Y5_9DbjjzQ2H",
        "colab_type": "code",
        "colab": {
          "base_uri": "https://localhost:8080/",
          "height": 136
        },
        "outputId": "1b8f90e8-5d6b-493c-ccf8-f2d453ef73cf"
      },
      "source": [
        "activity.isna().sum()/activity.shape[0]"
      ],
      "execution_count": 10,
      "outputs": [
        {
          "output_type": "execute_result",
          "data": {
            "text/plain": [
              "people_id            0.000000\n",
              "activity_id          0.000000\n",
              "fecha_actividad      0.000000\n",
              "activity_category    0.000000\n",
              "tipo_actividad       0.000000\n",
              "outcome              0.000003\n",
              "dtype: float64"
            ]
          },
          "metadata": {
            "tags": []
          },
          "execution_count": 10
        }
      ]
    },
    {
      "cell_type": "code",
      "metadata": {
        "id": "XJLtTPkKzfXG",
        "colab_type": "code",
        "colab": {
          "base_uri": "https://localhost:8080/",
          "height": 34
        },
        "outputId": "877ef47c-48a4-47da-8827-71833bc0c8e1"
      },
      "source": [
        "consolidado = activity.merge(people, on=['people_id'], how='inner')\n",
        "print(activity.shape, consolidado.shape)"
      ],
      "execution_count": 11,
      "outputs": [
        {
          "output_type": "stream",
          "text": [
            "(360850, 6) (360850, 46)\n"
          ],
          "name": "stdout"
        }
      ]
    },
    {
      "cell_type": "code",
      "metadata": {
        "id": "378Vq6HX4hhm",
        "colab_type": "code",
        "colab": {}
      },
      "source": [
        "consolidado['char_37'] = consolidado['char_37'].astype('bool')"
      ],
      "execution_count": 0,
      "outputs": []
    },
    {
      "cell_type": "code",
      "metadata": {
        "id": "lKnP9rQG3Hn_",
        "colab_type": "code",
        "colab": {
          "base_uri": "https://localhost:8080/",
          "height": 85
        },
        "outputId": "1b4b8688-c989-45a1-a084-f82ac1c3c5dd"
      },
      "source": [
        "tipos = consolidado.dtypes\n",
        "tipos.value_counts()"
      ],
      "execution_count": 13,
      "outputs": [
        {
          "output_type": "execute_result",
          "data": {
            "text/plain": [
              "bool       28\n",
              "object     16\n",
              "float64     2\n",
              "dtype: int64"
            ]
          },
          "metadata": {
            "tags": []
          },
          "execution_count": 13
        }
      ]
    },
    {
      "cell_type": "code",
      "metadata": {
        "id": "xObPY-Fa4E9F",
        "colab_type": "code",
        "colab": {}
      },
      "source": [
        "consolidado = consolidado.replace({True:1, False:0})"
      ],
      "execution_count": 0,
      "outputs": []
    },
    {
      "cell_type": "code",
      "metadata": {
        "id": "c6rCWtYW5XRU",
        "colab_type": "code",
        "colab": {
          "base_uri": "https://localhost:8080/",
          "height": 85
        },
        "outputId": "f4ca19d6-7987-4c3b-9194-2cb495882a75"
      },
      "source": [
        "tipos = consolidado.dtypes\n",
        "tipos.value_counts()"
      ],
      "execution_count": 15,
      "outputs": [
        {
          "output_type": "execute_result",
          "data": {
            "text/plain": [
              "int64      28\n",
              "object     16\n",
              "float64     2\n",
              "dtype: int64"
            ]
          },
          "metadata": {
            "tags": []
          },
          "execution_count": 15
        }
      ]
    },
    {
      "cell_type": "code",
      "metadata": {
        "id": "iVPavTd_5Xur",
        "colab_type": "code",
        "colab": {}
      },
      "source": [
        "consolidado.dropna(inplace=True)\n",
        "consolidado['outcome'] = consolidado['outcome'].astype('int64')\n",
        "consolidado['char_38'] = consolidado['char_38'].astype('int64')"
      ],
      "execution_count": 0,
      "outputs": []
    },
    {
      "cell_type": "markdown",
      "metadata": {
        "id": "AELuVKGZRN5q",
        "colab_type": "text"
      },
      "source": [
        "## Conversión de tipos de datos\n",
        "---"
      ]
    },
    {
      "cell_type": "code",
      "metadata": {
        "id": "fV9TDc2q7HPO",
        "colab_type": "code",
        "colab": {
          "base_uri": "https://localhost:8080/",
          "height": 68
        },
        "outputId": "612cfe90-a9c3-4426-bacd-919b417a664a"
      },
      "source": [
        "tipos = consolidado.dtypes\n",
        "tipos.value_counts()"
      ],
      "execution_count": 17,
      "outputs": [
        {
          "output_type": "execute_result",
          "data": {
            "text/plain": [
              "int64     30\n",
              "object    16\n",
              "dtype: int64"
            ]
          },
          "metadata": {
            "tags": []
          },
          "execution_count": 17
        }
      ]
    },
    {
      "cell_type": "code",
      "metadata": {
        "id": "_Jf0zef97bLT",
        "colab_type": "code",
        "colab": {
          "base_uri": "https://localhost:8080/",
          "height": 51
        },
        "outputId": "7e9f50d6-7e3c-461f-f75c-01a15cbab343"
      },
      "source": [
        "consolidado.isna().sum().value_counts()"
      ],
      "execution_count": 18,
      "outputs": [
        {
          "output_type": "execute_result",
          "data": {
            "text/plain": [
              "0    46\n",
              "dtype: int64"
            ]
          },
          "metadata": {
            "tags": []
          },
          "execution_count": 18
        }
      ]
    },
    {
      "cell_type": "code",
      "metadata": {
        "id": "fW4F4Dzs7foV",
        "colab_type": "code",
        "colab": {}
      },
      "source": [
        "consolidado['people_id'] = consolidado['people_id'].str.slice(start=4).astype(float).astype(int)"
      ],
      "execution_count": 0,
      "outputs": []
    },
    {
      "cell_type": "code",
      "metadata": {
        "id": "xEIdqBHaJB_9",
        "colab_type": "code",
        "colab": {}
      },
      "source": [
        "consolidado['activity_id'] = consolidado['activity_id'].str.slice(start=5).astype(float).astype(int)\n",
        "consolidado['activity_category'] = consolidado['activity_category'].str.slice(start=5).astype(float).astype(int)\n",
        "consolidado['group_1'] = consolidado['group_1'].str.slice(start=6).astype(float).astype(int)\n",
        "consolidado['tipo_actividad'] = consolidado['tipo_actividad'].str.slice(start=5).astype(float).astype(int)"
      ],
      "execution_count": 0,
      "outputs": []
    },
    {
      "cell_type": "code",
      "metadata": {
        "id": "UTukTpIOJNp2",
        "colab_type": "code",
        "colab": {
          "base_uri": "https://localhost:8080/",
          "height": 204
        },
        "outputId": "2e2caeaa-b652-4232-99bd-59c16aa5371c"
      },
      "source": [
        "consolidado_obj = consolidado.select_dtypes('object')\n",
        "\n",
        "for column in consolidado_obj.columns:\n",
        "  print(f'Column {column} has {len(consolidado_obj[column].unique())} distinct values')"
      ],
      "execution_count": 21,
      "outputs": [
        {
          "output_type": "stream",
          "text": [
            "Column fecha_actividad has 411 distinct values\n",
            "Column char_1 has 2 distinct values\n",
            "Column char_2 has 3 distinct values\n",
            "Column date has 1146 distinct values\n",
            "Column char_3 has 41 distinct values\n",
            "Column char_4 has 25 distinct values\n",
            "Column char_5 has 9 distinct values\n",
            "Column char_6 has 7 distinct values\n",
            "Column char_7 has 25 distinct values\n",
            "Column char_8 has 8 distinct values\n",
            "Column char_9 has 9 distinct values\n"
          ],
          "name": "stdout"
        }
      ]
    },
    {
      "cell_type": "code",
      "metadata": {
        "id": "O32vYuLkJ4Gd",
        "colab_type": "code",
        "colab": {}
      },
      "source": [
        "consolidado['date'] = pd.to_datetime(consolidado['date'])"
      ],
      "execution_count": 0,
      "outputs": []
    },
    {
      "cell_type": "code",
      "metadata": {
        "id": "4jnqHM3BKvH5",
        "colab_type": "code",
        "colab": {
          "base_uri": "https://localhost:8080/",
          "height": 119
        },
        "outputId": "211af635-eab6-4bdf-d9b3-347c47989e19"
      },
      "source": [
        "consolidado['dia'] = consolidado['date'].dt.day\n",
        "consolidado['dia'].head()"
      ],
      "execution_count": 23,
      "outputs": [
        {
          "output_type": "execute_result",
          "data": {
            "text/plain": [
              "0    29\n",
              "1    29\n",
              "2    29\n",
              "3    29\n",
              "4    29\n",
              "Name: dia, dtype: int64"
            ]
          },
          "metadata": {
            "tags": []
          },
          "execution_count": 23
        }
      ]
    },
    {
      "cell_type": "code",
      "metadata": {
        "id": "vjWifgPVOiPk",
        "colab_type": "code",
        "colab": {
          "base_uri": "https://localhost:8080/",
          "height": 119
        },
        "outputId": "39fdb70d-be27-4658-e1e2-c41b62643453"
      },
      "source": [
        "consolidado['dia_semana'] = consolidado['date'].dt.weekday\n",
        "consolidado['dia_semana'].head()"
      ],
      "execution_count": 24,
      "outputs": [
        {
          "output_type": "execute_result",
          "data": {
            "text/plain": [
              "0    1\n",
              "1    1\n",
              "2    1\n",
              "3    1\n",
              "4    1\n",
              "Name: dia_semana, dtype: int64"
            ]
          },
          "metadata": {
            "tags": []
          },
          "execution_count": 24
        }
      ]
    },
    {
      "cell_type": "code",
      "metadata": {
        "id": "iEbKGG1XPKiC",
        "colab_type": "code",
        "colab": {}
      },
      "source": [
        "consolidado['semana'] = consolidado['date'].dt.week\n",
        "consolidado['mes'] = consolidado['date'].dt.month\n",
        "consolidado['trimestre'] = consolidado['date'].dt.quarter\n",
        "consolidado['año'] = consolidado['date'].dt.year"
      ],
      "execution_count": 0,
      "outputs": []
    },
    {
      "cell_type": "code",
      "metadata": {
        "id": "uehex1OEPeHh",
        "colab_type": "code",
        "colab": {}
      },
      "source": [
        "consolidado['fecha_actividad'] = pd.to_datetime(consolidado['fecha_actividad'])\n",
        "\n",
        "consolidado['dia_actividad'] = consolidado['fecha_actividad'].dt.day\n",
        "consolidado['dia_semana_actividad'] = consolidado['fecha_actividad'].dt.weekday\n",
        "consolidado['semana_actividad'] = consolidado['fecha_actividad'].dt.week\n",
        "consolidado['mes_actividad'] = consolidado['fecha_actividad'].dt.month\n",
        "consolidado['trimestre_actividad'] = consolidado['fecha_actividad'].dt.quarter\n",
        "consolidado['año_actividad'] = consolidado['fecha_actividad'].dt.year"
      ],
      "execution_count": 0,
      "outputs": []
    },
    {
      "cell_type": "code",
      "metadata": {
        "id": "_nfJZHq7Pgaz",
        "colab_type": "code",
        "colab": {}
      },
      "source": [
        "del consolidado['date']\n",
        "del consolidado['fecha_actividad']"
      ],
      "execution_count": 0,
      "outputs": []
    },
    {
      "cell_type": "code",
      "metadata": {
        "id": "dlVaFKy9Qb6c",
        "colab_type": "code",
        "colab": {
          "base_uri": "https://localhost:8080/",
          "height": 68
        },
        "outputId": "7baf33c3-7c46-4386-c7da-2eaad74fce20"
      },
      "source": [
        "consolidado.dtypes.value_counts()"
      ],
      "execution_count": 28,
      "outputs": [
        {
          "output_type": "execute_result",
          "data": {
            "text/plain": [
              "int64     47\n",
              "object     9\n",
              "dtype: int64"
            ]
          },
          "metadata": {
            "tags": []
          },
          "execution_count": 28
        }
      ]
    },
    {
      "cell_type": "markdown",
      "metadata": {
        "id": "e5uFMpG3Rdup",
        "colab_type": "text"
      },
      "source": [
        "### Variables categóricas (one hot encoding)"
      ]
    },
    {
      "cell_type": "code",
      "metadata": {
        "id": "X-CYhAbLQdOS",
        "colab_type": "code",
        "colab": {}
      },
      "source": [
        "from sklearn.preprocessing import LabelEncoder, OneHotEncoder"
      ],
      "execution_count": 0,
      "outputs": []
    },
    {
      "cell_type": "code",
      "metadata": {
        "id": "rbYIcg_ebHjH",
        "colab_type": "code",
        "colab": {}
      },
      "source": [
        "numeric_columns = list(set(consolidado.select_dtypes('int64')) - set(['outcome']))\n",
        "categoric_columns = list(consolidado.select_dtypes('object'))\n",
        "\n",
        "objetivo = consolidado['outcome']\n",
        "variables_consolidadas = consolidado[numeric_columns]"
      ],
      "execution_count": 0,
      "outputs": []
    },
    {
      "cell_type": "code",
      "metadata": {
        "id": "J0OBIDMRRaR-",
        "colab_type": "code",
        "colab": {}
      },
      "source": [
        "categoric_values = consolidado[categoric_columns]\n",
        "enc = OneHotEncoder(sparse=False)\n",
        "categoric_values = pd.DataFrame(enc.fit_transform(categoric_values))\n",
        "categoric_values.columns = enc.get_feature_names(categoric_columns)\n",
        "\n",
        "variables_consolidadas = pd.concat([variables_consolidadas, categoric_values], axis=1)"
      ],
      "execution_count": 0,
      "outputs": []
    },
    {
      "cell_type": "code",
      "metadata": {
        "id": "WZK5eA5Ka0Bx",
        "colab_type": "code",
        "colab": {
          "base_uri": "https://localhost:8080/",
          "height": 208
        },
        "outputId": "16f20f18-9f98-4710-9e07-187f34dd2d98"
      },
      "source": [
        "variables_consolidadas.head(3)"
      ],
      "execution_count": 32,
      "outputs": [
        {
          "output_type": "execute_result",
          "data": {
            "text/html": [
              "<div>\n",
              "<style scoped>\n",
              "    .dataframe tbody tr th:only-of-type {\n",
              "        vertical-align: middle;\n",
              "    }\n",
              "\n",
              "    .dataframe tbody tr th {\n",
              "        vertical-align: top;\n",
              "    }\n",
              "\n",
              "    .dataframe thead th {\n",
              "        text-align: right;\n",
              "    }\n",
              "</style>\n",
              "<table border=\"1\" class=\"dataframe\">\n",
              "  <thead>\n",
              "    <tr style=\"text-align: right;\">\n",
              "      <th></th>\n",
              "      <th>char_22</th>\n",
              "      <th>char_27</th>\n",
              "      <th>dia_actividad</th>\n",
              "      <th>dia_semana</th>\n",
              "      <th>char_23</th>\n",
              "      <th>group_1</th>\n",
              "      <th>char_28</th>\n",
              "      <th>char_26</th>\n",
              "      <th>dia_semana_actividad</th>\n",
              "      <th>char_17</th>\n",
              "      <th>trimestre_actividad</th>\n",
              "      <th>char_18</th>\n",
              "      <th>people_id</th>\n",
              "      <th>char_12</th>\n",
              "      <th>char_35</th>\n",
              "      <th>semana</th>\n",
              "      <th>mes_actividad</th>\n",
              "      <th>activity_category</th>\n",
              "      <th>char_20</th>\n",
              "      <th>char_38</th>\n",
              "      <th>char_11</th>\n",
              "      <th>char_31</th>\n",
              "      <th>char_36</th>\n",
              "      <th>char_34</th>\n",
              "      <th>dia</th>\n",
              "      <th>char_19</th>\n",
              "      <th>char_30</th>\n",
              "      <th>año</th>\n",
              "      <th>activity_id</th>\n",
              "      <th>año_actividad</th>\n",
              "      <th>char_21</th>\n",
              "      <th>char_10</th>\n",
              "      <th>trimestre</th>\n",
              "      <th>char_37</th>\n",
              "      <th>char_33</th>\n",
              "      <th>tipo_actividad</th>\n",
              "      <th>mes</th>\n",
              "      <th>char_14</th>\n",
              "      <th>char_25</th>\n",
              "      <th>semana_actividad</th>\n",
              "      <th>...</th>\n",
              "      <th>char_7_type 11</th>\n",
              "      <th>char_7_type 12</th>\n",
              "      <th>char_7_type 13</th>\n",
              "      <th>char_7_type 14</th>\n",
              "      <th>char_7_type 15</th>\n",
              "      <th>char_7_type 16</th>\n",
              "      <th>char_7_type 17</th>\n",
              "      <th>char_7_type 18</th>\n",
              "      <th>char_7_type 19</th>\n",
              "      <th>char_7_type 2</th>\n",
              "      <th>char_7_type 20</th>\n",
              "      <th>char_7_type 21</th>\n",
              "      <th>char_7_type 22</th>\n",
              "      <th>char_7_type 23</th>\n",
              "      <th>char_7_type 24</th>\n",
              "      <th>char_7_type 25</th>\n",
              "      <th>char_7_type 3</th>\n",
              "      <th>char_7_type 4</th>\n",
              "      <th>char_7_type 5</th>\n",
              "      <th>char_7_type 6</th>\n",
              "      <th>char_7_type 7</th>\n",
              "      <th>char_7_type 8</th>\n",
              "      <th>char_7_type 9</th>\n",
              "      <th>char_8_type 1</th>\n",
              "      <th>char_8_type 2</th>\n",
              "      <th>char_8_type 3</th>\n",
              "      <th>char_8_type 4</th>\n",
              "      <th>char_8_type 5</th>\n",
              "      <th>char_8_type 6</th>\n",
              "      <th>char_8_type 7</th>\n",
              "      <th>char_8_type 8</th>\n",
              "      <th>char_9_type 1</th>\n",
              "      <th>char_9_type 2</th>\n",
              "      <th>char_9_type 3</th>\n",
              "      <th>char_9_type 4</th>\n",
              "      <th>char_9_type 5</th>\n",
              "      <th>char_9_type 6</th>\n",
              "      <th>char_9_type 7</th>\n",
              "      <th>char_9_type 8</th>\n",
              "      <th>char_9_type 9</th>\n",
              "    </tr>\n",
              "  </thead>\n",
              "  <tbody>\n",
              "    <tr>\n",
              "      <th>0</th>\n",
              "      <td>0</td>\n",
              "      <td>1</td>\n",
              "      <td>26</td>\n",
              "      <td>1</td>\n",
              "      <td>0</td>\n",
              "      <td>17304</td>\n",
              "      <td>1</td>\n",
              "      <td>0</td>\n",
              "      <td>5</td>\n",
              "      <td>0</td>\n",
              "      <td>3</td>\n",
              "      <td>0</td>\n",
              "      <td>100</td>\n",
              "      <td>0</td>\n",
              "      <td>1</td>\n",
              "      <td>26</td>\n",
              "      <td>8</td>\n",
              "      <td>4</td>\n",
              "      <td>0</td>\n",
              "      <td>36</td>\n",
              "      <td>0</td>\n",
              "      <td>1</td>\n",
              "      <td>1</td>\n",
              "      <td>1</td>\n",
              "      <td>29</td>\n",
              "      <td>0</td>\n",
              "      <td>1</td>\n",
              "      <td>2021</td>\n",
              "      <td>1734928</td>\n",
              "      <td>2023</td>\n",
              "      <td>1</td>\n",
              "      <td>1</td>\n",
              "      <td>2</td>\n",
              "      <td>0</td>\n",
              "      <td>0</td>\n",
              "      <td>76</td>\n",
              "      <td>6</td>\n",
              "      <td>1</td>\n",
              "      <td>0</td>\n",
              "      <td>34</td>\n",
              "      <td>...</td>\n",
              "      <td>1.0</td>\n",
              "      <td>0.0</td>\n",
              "      <td>0.0</td>\n",
              "      <td>0.0</td>\n",
              "      <td>0.0</td>\n",
              "      <td>0.0</td>\n",
              "      <td>0.0</td>\n",
              "      <td>0.0</td>\n",
              "      <td>0.0</td>\n",
              "      <td>0.0</td>\n",
              "      <td>0.0</td>\n",
              "      <td>0.0</td>\n",
              "      <td>0.0</td>\n",
              "      <td>0.0</td>\n",
              "      <td>0.0</td>\n",
              "      <td>0.0</td>\n",
              "      <td>0.0</td>\n",
              "      <td>0.0</td>\n",
              "      <td>0.0</td>\n",
              "      <td>0.0</td>\n",
              "      <td>0.0</td>\n",
              "      <td>0.0</td>\n",
              "      <td>0.0</td>\n",
              "      <td>0.0</td>\n",
              "      <td>1.0</td>\n",
              "      <td>0.0</td>\n",
              "      <td>0.0</td>\n",
              "      <td>0.0</td>\n",
              "      <td>0.0</td>\n",
              "      <td>0.0</td>\n",
              "      <td>0.0</td>\n",
              "      <td>0.0</td>\n",
              "      <td>1.0</td>\n",
              "      <td>0.0</td>\n",
              "      <td>0.0</td>\n",
              "      <td>0.0</td>\n",
              "      <td>0.0</td>\n",
              "      <td>0.0</td>\n",
              "      <td>0.0</td>\n",
              "      <td>0.0</td>\n",
              "    </tr>\n",
              "    <tr>\n",
              "      <th>1</th>\n",
              "      <td>0</td>\n",
              "      <td>1</td>\n",
              "      <td>27</td>\n",
              "      <td>1</td>\n",
              "      <td>0</td>\n",
              "      <td>17304</td>\n",
              "      <td>1</td>\n",
              "      <td>0</td>\n",
              "      <td>1</td>\n",
              "      <td>0</td>\n",
              "      <td>3</td>\n",
              "      <td>0</td>\n",
              "      <td>100</td>\n",
              "      <td>0</td>\n",
              "      <td>1</td>\n",
              "      <td>26</td>\n",
              "      <td>9</td>\n",
              "      <td>2</td>\n",
              "      <td>0</td>\n",
              "      <td>36</td>\n",
              "      <td>0</td>\n",
              "      <td>1</td>\n",
              "      <td>1</td>\n",
              "      <td>1</td>\n",
              "      <td>29</td>\n",
              "      <td>0</td>\n",
              "      <td>1</td>\n",
              "      <td>2021</td>\n",
              "      <td>2434093</td>\n",
              "      <td>2022</td>\n",
              "      <td>1</td>\n",
              "      <td>1</td>\n",
              "      <td>2</td>\n",
              "      <td>0</td>\n",
              "      <td>0</td>\n",
              "      <td>1</td>\n",
              "      <td>6</td>\n",
              "      <td>1</td>\n",
              "      <td>0</td>\n",
              "      <td>39</td>\n",
              "      <td>...</td>\n",
              "      <td>1.0</td>\n",
              "      <td>0.0</td>\n",
              "      <td>0.0</td>\n",
              "      <td>0.0</td>\n",
              "      <td>0.0</td>\n",
              "      <td>0.0</td>\n",
              "      <td>0.0</td>\n",
              "      <td>0.0</td>\n",
              "      <td>0.0</td>\n",
              "      <td>0.0</td>\n",
              "      <td>0.0</td>\n",
              "      <td>0.0</td>\n",
              "      <td>0.0</td>\n",
              "      <td>0.0</td>\n",
              "      <td>0.0</td>\n",
              "      <td>0.0</td>\n",
              "      <td>0.0</td>\n",
              "      <td>0.0</td>\n",
              "      <td>0.0</td>\n",
              "      <td>0.0</td>\n",
              "      <td>0.0</td>\n",
              "      <td>0.0</td>\n",
              "      <td>0.0</td>\n",
              "      <td>0.0</td>\n",
              "      <td>1.0</td>\n",
              "      <td>0.0</td>\n",
              "      <td>0.0</td>\n",
              "      <td>0.0</td>\n",
              "      <td>0.0</td>\n",
              "      <td>0.0</td>\n",
              "      <td>0.0</td>\n",
              "      <td>0.0</td>\n",
              "      <td>1.0</td>\n",
              "      <td>0.0</td>\n",
              "      <td>0.0</td>\n",
              "      <td>0.0</td>\n",
              "      <td>0.0</td>\n",
              "      <td>0.0</td>\n",
              "      <td>0.0</td>\n",
              "      <td>0.0</td>\n",
              "    </tr>\n",
              "    <tr>\n",
              "      <th>2</th>\n",
              "      <td>0</td>\n",
              "      <td>1</td>\n",
              "      <td>27</td>\n",
              "      <td>1</td>\n",
              "      <td>0</td>\n",
              "      <td>17304</td>\n",
              "      <td>1</td>\n",
              "      <td>0</td>\n",
              "      <td>1</td>\n",
              "      <td>0</td>\n",
              "      <td>3</td>\n",
              "      <td>0</td>\n",
              "      <td>100</td>\n",
              "      <td>0</td>\n",
              "      <td>1</td>\n",
              "      <td>26</td>\n",
              "      <td>9</td>\n",
              "      <td>2</td>\n",
              "      <td>0</td>\n",
              "      <td>36</td>\n",
              "      <td>0</td>\n",
              "      <td>1</td>\n",
              "      <td>1</td>\n",
              "      <td>1</td>\n",
              "      <td>29</td>\n",
              "      <td>0</td>\n",
              "      <td>1</td>\n",
              "      <td>2021</td>\n",
              "      <td>3404049</td>\n",
              "      <td>2022</td>\n",
              "      <td>1</td>\n",
              "      <td>1</td>\n",
              "      <td>2</td>\n",
              "      <td>0</td>\n",
              "      <td>0</td>\n",
              "      <td>1</td>\n",
              "      <td>6</td>\n",
              "      <td>1</td>\n",
              "      <td>0</td>\n",
              "      <td>39</td>\n",
              "      <td>...</td>\n",
              "      <td>1.0</td>\n",
              "      <td>0.0</td>\n",
              "      <td>0.0</td>\n",
              "      <td>0.0</td>\n",
              "      <td>0.0</td>\n",
              "      <td>0.0</td>\n",
              "      <td>0.0</td>\n",
              "      <td>0.0</td>\n",
              "      <td>0.0</td>\n",
              "      <td>0.0</td>\n",
              "      <td>0.0</td>\n",
              "      <td>0.0</td>\n",
              "      <td>0.0</td>\n",
              "      <td>0.0</td>\n",
              "      <td>0.0</td>\n",
              "      <td>0.0</td>\n",
              "      <td>0.0</td>\n",
              "      <td>0.0</td>\n",
              "      <td>0.0</td>\n",
              "      <td>0.0</td>\n",
              "      <td>0.0</td>\n",
              "      <td>0.0</td>\n",
              "      <td>0.0</td>\n",
              "      <td>0.0</td>\n",
              "      <td>1.0</td>\n",
              "      <td>0.0</td>\n",
              "      <td>0.0</td>\n",
              "      <td>0.0</td>\n",
              "      <td>0.0</td>\n",
              "      <td>0.0</td>\n",
              "      <td>0.0</td>\n",
              "      <td>0.0</td>\n",
              "      <td>1.0</td>\n",
              "      <td>0.0</td>\n",
              "      <td>0.0</td>\n",
              "      <td>0.0</td>\n",
              "      <td>0.0</td>\n",
              "      <td>0.0</td>\n",
              "      <td>0.0</td>\n",
              "      <td>0.0</td>\n",
              "    </tr>\n",
              "  </tbody>\n",
              "</table>\n",
              "<p>3 rows × 175 columns</p>\n",
              "</div>"
            ],
            "text/plain": [
              "   char_22  char_27  dia_actividad  ...  char_9_type 7  char_9_type 8  char_9_type 9\n",
              "0        0        1             26  ...            0.0            0.0            0.0\n",
              "1        0        1             27  ...            0.0            0.0            0.0\n",
              "2        0        1             27  ...            0.0            0.0            0.0\n",
              "\n",
              "[3 rows x 175 columns]"
            ]
          },
          "metadata": {
            "tags": []
          },
          "execution_count": 32
        }
      ]
    },
    {
      "cell_type": "code",
      "metadata": {
        "id": "qAHa0sPphEQQ",
        "colab_type": "code",
        "colab": {
          "base_uri": "https://localhost:8080/",
          "height": 68
        },
        "outputId": "50795d06-df78-4dd2-da4e-2d7c3b7bf2a0"
      },
      "source": [
        "variables_consolidadas.dtypes.value_counts()"
      ],
      "execution_count": 33,
      "outputs": [
        {
          "output_type": "execute_result",
          "data": {
            "text/plain": [
              "float64    129\n",
              "int64       46\n",
              "dtype: int64"
            ]
          },
          "metadata": {
            "tags": []
          },
          "execution_count": 33
        }
      ]
    },
    {
      "cell_type": "code",
      "metadata": {
        "id": "PgHqCiiaiJK1",
        "colab_type": "code",
        "colab": {}
      },
      "source": [
        ""
      ],
      "execution_count": 0,
      "outputs": []
    }
  ]
}